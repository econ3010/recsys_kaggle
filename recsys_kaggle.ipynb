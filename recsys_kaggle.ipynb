{
  "nbformat": 4,
  "nbformat_minor": 0,
  "metadata": {
    "colab": {
      "provenance": [],
      "authorship_tag": "ABX9TyPEfPH0QgfVniASwMi6waSx",
      "include_colab_link": true
    },
    "kernelspec": {
      "name": "python3",
      "display_name": "Python 3"
    },
    "language_info": {
      "name": "python"
    }
  },
  "cells": [
    {
      "cell_type": "markdown",
      "metadata": {
        "id": "view-in-github",
        "colab_type": "text"
      },
      "source": [
        "<a href=\"https://colab.research.google.com/github/econ3010/recsys_kaggle/blob/main/recsys_kaggle.ipynb\" target=\"_parent\"><img src=\"https://colab.research.google.com/assets/colab-badge.svg\" alt=\"Open In Colab\"/></a>"
      ]
    },
    {
      "cell_type": "markdown",
      "source": [
        "お手本のサイト\n",
        "\n",
        "https://www.kaggle.com/code/zjzhao1002/movie-recommendation-system-v2\n",
        "\n",
        "\n",
        "お題のサイト\n",
        "\n",
        "https://www.kaggle.com/datasets/parasharmanas/movie-recommendation-system/data\n"
      ],
      "metadata": {
        "id": "gNBG5nXtPLpv"
      }
    },
    {
      "cell_type": "code",
      "execution_count": 3,
      "metadata": {
        "id": "2CUZqO6dNrPN"
      },
      "outputs": [],
      "source": [
        "import pandas as pd\n",
        "import numpy as np\n",
        "from sklearn.feature_extraction.text import TfidfVectorizer\n",
        "from sklearn.metrics.pairwise import cosine_similarity"
      ]
    },
    {
      "cell_type": "code",
      "source": [
        "from google.colab import drive\n",
        "drive.mount('/content/drive')"
      ],
      "metadata": {
        "colab": {
          "base_uri": "https://localhost:8080/"
        },
        "id": "4ymUo6lPnIkd",
        "outputId": "647e6163-6f97-4562-9aa1-eb8310ac00e8"
      },
      "execution_count": 15,
      "outputs": [
        {
          "output_type": "stream",
          "name": "stdout",
          "text": [
            "Mounted at /content/drive\n"
          ]
        }
      ]
    },
    {
      "cell_type": "code",
      "source": [
        "df1 = pd.read_csv(\"/content/drive/My Drive/movie_data/movies.csv\")\n",
        "print(df1.head())"
      ],
      "metadata": {
        "colab": {
          "base_uri": "https://localhost:8080/"
        },
        "id": "EiE_9jgKOc_x",
        "outputId": "a16a7c84-dc89-441e-d890-37547b22aaad"
      },
      "execution_count": 16,
      "outputs": [
        {
          "output_type": "stream",
          "name": "stdout",
          "text": [
            "   movieId                               title  \\\n",
            "0        1                    Toy Story (1995)   \n",
            "1        2                      Jumanji (1995)   \n",
            "2        3             Grumpier Old Men (1995)   \n",
            "3        4            Waiting to Exhale (1995)   \n",
            "4        5  Father of the Bride Part II (1995)   \n",
            "\n",
            "                                        genres  \n",
            "0  Adventure|Animation|Children|Comedy|Fantasy  \n",
            "1                   Adventure|Children|Fantasy  \n",
            "2                               Comedy|Romance  \n",
            "3                         Comedy|Drama|Romance  \n",
            "4                                       Comedy  \n"
          ]
        }
      ]
    },
    {
      "cell_type": "code",
      "source": [
        "\n",
        "df1.isna().sum()\n"
      ],
      "metadata": {
        "colab": {
          "base_uri": "https://localhost:8080/",
          "height": 178
        },
        "id": "75yCUC7RPFM5",
        "outputId": "1c52a475-68a9-4e28-ec8e-cdaa2def650e"
      },
      "execution_count": 17,
      "outputs": [
        {
          "output_type": "execute_result",
          "data": {
            "text/plain": [
              "movieId    0\n",
              "title      0\n",
              "genres     0\n",
              "dtype: int64"
            ],
            "text/html": [
              "<div>\n",
              "<style scoped>\n",
              "    .dataframe tbody tr th:only-of-type {\n",
              "        vertical-align: middle;\n",
              "    }\n",
              "\n",
              "    .dataframe tbody tr th {\n",
              "        vertical-align: top;\n",
              "    }\n",
              "\n",
              "    .dataframe thead th {\n",
              "        text-align: right;\n",
              "    }\n",
              "</style>\n",
              "<table border=\"1\" class=\"dataframe\">\n",
              "  <thead>\n",
              "    <tr style=\"text-align: right;\">\n",
              "      <th></th>\n",
              "      <th>0</th>\n",
              "    </tr>\n",
              "  </thead>\n",
              "  <tbody>\n",
              "    <tr>\n",
              "      <th>movieId</th>\n",
              "      <td>0</td>\n",
              "    </tr>\n",
              "    <tr>\n",
              "      <th>title</th>\n",
              "      <td>0</td>\n",
              "    </tr>\n",
              "    <tr>\n",
              "      <th>genres</th>\n",
              "      <td>0</td>\n",
              "    </tr>\n",
              "  </tbody>\n",
              "</table>\n",
              "</div><br><label><b>dtype:</b> int64</label>"
            ]
          },
          "metadata": {},
          "execution_count": 17
        }
      ]
    },
    {
      "cell_type": "markdown",
      "source": [],
      "metadata": {
        "id": "9zVt5CzFPKo7"
      }
    },
    {
      "cell_type": "code",
      "source": [
        "import re\n",
        "\n",
        "def clean_title(title):\n",
        "    return re.sub(\"[^a-zA-Z0-9 ]\", \"\", title)"
      ],
      "metadata": {
        "id": "K6GGoRoTPJbz"
      },
      "execution_count": 1,
      "outputs": []
    },
    {
      "cell_type": "code",
      "source": [
        "df1['genres_list'] = df1['genres'].str.replace('|', ' ')\n",
        "df1['clean_title'] = df1['title'].apply(clean_title)\n",
        "\n",
        "movies_data = df1[['movieId', 'clean_title', 'genres_list']]\n",
        "print(movies_data.head())"
      ],
      "metadata": {
        "colab": {
          "base_uri": "https://localhost:8080/"
        },
        "id": "efu7mujrl80K",
        "outputId": "907f2561-83f5-4a2e-86d3-2e2ea13f69f0"
      },
      "execution_count": 18,
      "outputs": [
        {
          "output_type": "stream",
          "name": "stdout",
          "text": [
            "   movieId                       clean_title  \\\n",
            "0        1                    Toy Story 1995   \n",
            "1        2                      Jumanji 1995   \n",
            "2        3             Grumpier Old Men 1995   \n",
            "3        4            Waiting to Exhale 1995   \n",
            "4        5  Father of the Bride Part II 1995   \n",
            "\n",
            "                                   genres_list  \n",
            "0  Adventure Animation Children Comedy Fantasy  \n",
            "1                   Adventure Children Fantasy  \n",
            "2                               Comedy Romance  \n",
            "3                         Comedy Drama Romance  \n",
            "4                                       Comedy  \n"
          ]
        }
      ]
    },
    {
      "cell_type": "code",
      "source": [
        "df2 = pd.read_csv(\"/content/drive/My Drive/movie_data/ratings.csv\")\n",
        "print(df2.head())"
      ],
      "metadata": {
        "colab": {
          "base_uri": "https://localhost:8080/"
        },
        "id": "eOxWq6Ctl_ew",
        "outputId": "fbfad87c-bf84-47eb-8c30-284791b84b66"
      },
      "execution_count": 20,
      "outputs": [
        {
          "output_type": "stream",
          "name": "stdout",
          "text": [
            "   userId  movieId  rating   timestamp\n",
            "0       1      296     5.0  1147880044\n",
            "1       1      306     3.5  1147868817\n",
            "2       1      307     5.0  1147868828\n",
            "3       1      665     5.0  1147878820\n",
            "4       1      899     3.5  1147868510\n"
          ]
        }
      ]
    },
    {
      "cell_type": "code",
      "source": [
        "df2.isna().sum()"
      ],
      "metadata": {
        "colab": {
          "base_uri": "https://localhost:8080/",
          "height": 210
        },
        "id": "hwbhqheWpC3I",
        "outputId": "db4dee56-426e-4588-8f37-a9b73c8db266"
      },
      "execution_count": 21,
      "outputs": [
        {
          "output_type": "execute_result",
          "data": {
            "text/plain": [
              "userId       0\n",
              "movieId      0\n",
              "rating       0\n",
              "timestamp    0\n",
              "dtype: int64"
            ],
            "text/html": [
              "<div>\n",
              "<style scoped>\n",
              "    .dataframe tbody tr th:only-of-type {\n",
              "        vertical-align: middle;\n",
              "    }\n",
              "\n",
              "    .dataframe tbody tr th {\n",
              "        vertical-align: top;\n",
              "    }\n",
              "\n",
              "    .dataframe thead th {\n",
              "        text-align: right;\n",
              "    }\n",
              "</style>\n",
              "<table border=\"1\" class=\"dataframe\">\n",
              "  <thead>\n",
              "    <tr style=\"text-align: right;\">\n",
              "      <th></th>\n",
              "      <th>0</th>\n",
              "    </tr>\n",
              "  </thead>\n",
              "  <tbody>\n",
              "    <tr>\n",
              "      <th>userId</th>\n",
              "      <td>0</td>\n",
              "    </tr>\n",
              "    <tr>\n",
              "      <th>movieId</th>\n",
              "      <td>0</td>\n",
              "    </tr>\n",
              "    <tr>\n",
              "      <th>rating</th>\n",
              "      <td>0</td>\n",
              "    </tr>\n",
              "    <tr>\n",
              "      <th>timestamp</th>\n",
              "      <td>0</td>\n",
              "    </tr>\n",
              "  </tbody>\n",
              "</table>\n",
              "</div><br><label><b>dtype:</b> int64</label>"
            ]
          },
          "metadata": {},
          "execution_count": 21
        }
      ]
    },
    {
      "cell_type": "code",
      "source": [
        "ratings_data = df2.drop(['timestamp'], axis=1)\n",
        "print(ratings_data.head())"
      ],
      "metadata": {
        "colab": {
          "base_uri": "https://localhost:8080/"
        },
        "id": "v3K6nUOJpRlt",
        "outputId": "de46f678-7ec8-4869-9a97-ce2e77551886"
      },
      "execution_count": 22,
      "outputs": [
        {
          "output_type": "stream",
          "name": "stdout",
          "text": [
            "   userId  movieId  rating\n",
            "0       1      296     5.0\n",
            "1       1      306     3.5\n",
            "2       1      307     5.0\n",
            "3       1      665     5.0\n",
            "4       1      899     3.5\n"
          ]
        }
      ]
    },
    {
      "cell_type": "code",
      "source": [
        "combined_data = ratings_data.merge(movies_data, on='movieId')\n",
        "print(combined_data.head())"
      ],
      "metadata": {
        "colab": {
          "base_uri": "https://localhost:8080/"
        },
        "id": "m6bXXBEKpURF",
        "outputId": "1cbe2a28-cc21-4baf-a916-3c2401cc8c73"
      },
      "execution_count": 23,
      "outputs": [
        {
          "output_type": "stream",
          "name": "stdout",
          "text": [
            "   userId  movieId  rating        clean_title                  genres_list\n",
            "0       1      296     5.0  Pulp Fiction 1994  Comedy Crime Drama Thriller\n",
            "1       3      296     5.0  Pulp Fiction 1994  Comedy Crime Drama Thriller\n",
            "2       4      296     4.0  Pulp Fiction 1994  Comedy Crime Drama Thriller\n",
            "3       5      296     4.0  Pulp Fiction 1994  Comedy Crime Drama Thriller\n",
            "4       7      296     4.0  Pulp Fiction 1994  Comedy Crime Drama Thriller\n"
          ]
        }
      ]
    },
    {
      "cell_type": "code",
      "source": [
        "vectorizer_title = TfidfVectorizer(ngram_range=(1,2))\n",
        "\n",
        "tfidf_title = vectorizer_title.fit_transform(movies_data['clean_title'])\n",
        "\n",
        "def search_by_title(title):\n",
        "    title = clean_title(title)\n",
        "    query_vec = vectorizer_title.transform([title])\n",
        "    similarity = cosine_similarity(query_vec, tfidf_title).flatten()\n",
        "    indices = np.argpartition(similarity, -5)[-5:]\n",
        "    results = movies_data.iloc[indices][::-1]\n",
        "    return results\n",
        "\n",
        "movie_results = search_by_title(\"Toy Story\")\n",
        "print(movie_results)"
      ],
      "metadata": {
        "colab": {
          "base_uri": "https://localhost:8080/"
        },
        "id": "-MeyOwT6pV3Y",
        "outputId": "143cabd9-3e61-4a5d-98e3-ae5644452ec7"
      },
      "execution_count": 24,
      "outputs": [
        {
          "output_type": "stream",
          "name": "stdout",
          "text": [
            "       movieId               clean_title  \\\n",
            "3021      3114          Toy Story 2 1999   \n",
            "14813    78499          Toy Story 3 2010   \n",
            "0            1            Toy Story 1995   \n",
            "59767   201588          Toy Story 4 2019   \n",
            "20497   106022  Toy Story of Terror 2013   \n",
            "\n",
            "                                            genres_list  \n",
            "3021        Adventure Animation Children Comedy Fantasy  \n",
            "14813  Adventure Animation Children Comedy Fantasy IMAX  \n",
            "0           Adventure Animation Children Comedy Fantasy  \n",
            "59767               Adventure Animation Children Comedy  \n",
            "20497                         Animation Children Comedy  \n"
          ]
        }
      ]
    },
    {
      "cell_type": "code",
      "source": [
        "vectorizer_genres = TfidfVectorizer(ngram_range=(1,2))\n",
        "\n",
        "tfidf_genres = vectorizer_genres.fit_transform(movies_data['genres_list'])\n",
        "\n",
        "def search_similar_genres(genres):\n",
        "    query_vec = vectorizer_genres.transform([genres])\n",
        "    similarity = cosine_similarity(query_vec, tfidf_genres).flatten()\n",
        "    indices = np.argpartition(similarity, -10)[-10:]\n",
        "    results = movies_data.iloc[indices][::-1]\n",
        "    return results\n",
        "\n",
        "gen = 'Adventure Comedy'\n",
        "print(search_similar_genres(gen))"
      ],
      "metadata": {
        "colab": {
          "base_uri": "https://localhost:8080/"
        },
        "id": "BCJEWyIgpaAQ",
        "outputId": "ed8f8894-6da3-4b80-a9c6-238aed9280ab"
      },
      "execution_count": 25,
      "outputs": [
        {
          "output_type": "stream",
          "name": "stdout",
          "text": [
            "       movieId                                        clean_title  \\\n",
            "25659   124232                          The Fuller Brush Man 1948   \n",
            "2379      2470                              Crocodile Dundee 1986   \n",
            "21378   110223                         Prisoner of Zenda The 1979   \n",
            "37582   152970                     Hunt for the Wilderpeople 2016   \n",
            "5808      5920     Ace of Aces aka Super Ace The As des as L 1982   \n",
            "57227   195905                                     Fools Day 2014   \n",
            "3651      3752                              Me Myself  Irene 2000   \n",
            "53513   187573                      Blondie Takes a Vacation 1939   \n",
            "18675    97665  Asterix  Obelix God Save Britannia Astrix et O...   \n",
            "37581   152968                                        Lusers 2015   \n",
            "\n",
            "            genres_list  \n",
            "25659  Adventure Comedy  \n",
            "2379   Adventure Comedy  \n",
            "21378  Adventure Comedy  \n",
            "37582  Adventure Comedy  \n",
            "5808   Adventure Comedy  \n",
            "57227  Adventure Comedy  \n",
            "3651   Adventure Comedy  \n",
            "53513  Adventure Comedy  \n",
            "18675  Adventure Comedy  \n",
            "37581  Adventure Comedy  \n"
          ]
        }
      ]
    },
    {
      "cell_type": "code",
      "source": [
        "def scores_calculator(movie_id):\n",
        "    #find the recommendations from users who like the same movie\n",
        "    similar_users = combined_data[(combined_data['movieId']== movie_id) & (combined_data['rating']>=4)]['userId'].unique()\n",
        "    similar_user_recs = combined_data[(combined_data['userId'].isin(similar_users)) & (combined_data['rating']>=4)]['movieId']\n",
        "    similar_user_recs = similar_user_recs.value_counts() / len(similar_users)\n",
        "    #print(similar_user_recs)\n",
        "\n",
        "    #find the recommendations from all users who have watch the movies above\n",
        "    all_users = combined_data[(combined_data['movieId'].isin(similar_user_recs.index)) & (combined_data['rating']>=4)]\n",
        "    all_users_recs = all_users['movieId'].value_counts() / all_users['userId'].nunique()\n",
        "    #print(all_users_recs)\n",
        "\n",
        "    genres_of_selected_movie = combined_data[combined_data['movieId']==movie_id]['genres_list'].unique()\n",
        "    genres_of_selected_movie = np.array2string(genres_of_selected_movie)\n",
        "    movies_with_similar_genres = search_similar_genres(genres_of_selected_movie)\n",
        "\n",
        "    indices = []\n",
        "    for index in movies_with_similar_genres[(movies_with_similar_genres['movieId'].isin(similar_user_recs.index))]['movieId']:\n",
        "        indices.append(index)\n",
        "\n",
        "    #times a factor 1.5 to movies with similar genres and similar users\n",
        "    similar_user_recs.loc[indices] = similar_user_recs.loc[indices]*1.5\n",
        "\n",
        "    #times a factor 0.9 to movies with similar genres and all users\n",
        "    indices = []\n",
        "    for index in movies_with_similar_genres[(movies_with_similar_genres['movieId'].isin(all_users_recs.index))]['movieId']:\n",
        "        indices.append(index)\n",
        "    all_users_recs.loc[indices] = all_users_recs.loc[indices]*0.9\n",
        "\n",
        "    rec_percentages = pd.concat([similar_user_recs, all_users_recs], axis=1)\n",
        "    rec_percentages.columns = ['similar', 'all']\n",
        "    rec_percentages['score'] = rec_percentages['similar'] / rec_percentages['all']\n",
        "\n",
        "    rec_percentages = rec_percentages.sort_values('score', ascending=False)\n",
        "    return rec_percentages\n",
        "\n",
        "scores_calculator(3114)"
      ],
      "metadata": {
        "colab": {
          "base_uri": "https://localhost:8080/",
          "height": 455
        },
        "id": "JaCY5AjPpeqw",
        "outputId": "ba85ca27-7652-4f2d-ad37-2f8719a6f39c"
      },
      "execution_count": 26,
      "outputs": [
        {
          "output_type": "execute_result",
          "data": {
            "text/plain": [
              "          similar       all      score\n",
              "movieId                               \n",
              "115875   0.002656  0.000172  15.455353\n",
              "115879   0.001557  0.000111  14.043053\n",
              "114240   0.000275  0.000022  12.390929\n",
              "67009    0.000305  0.000031   9.912743\n",
              "7269     0.000305  0.000031   9.912743\n",
              "...           ...       ...        ...\n",
              "853      0.000061  0.000271   0.225290\n",
              "601      0.000061  0.000283   0.215494\n",
              "797      0.000061  0.000296   0.206515\n",
              "1075     0.000061  0.000339   0.180232\n",
              "706      0.000061  0.000437   0.139616\n",
              "\n",
              "[26405 rows x 3 columns]"
            ],
            "text/html": [
              "\n",
              "  <div id=\"df-4c3804ff-d8c0-42ee-86a3-de1302f553df\" class=\"colab-df-container\">\n",
              "    <div>\n",
              "<style scoped>\n",
              "    .dataframe tbody tr th:only-of-type {\n",
              "        vertical-align: middle;\n",
              "    }\n",
              "\n",
              "    .dataframe tbody tr th {\n",
              "        vertical-align: top;\n",
              "    }\n",
              "\n",
              "    .dataframe thead th {\n",
              "        text-align: right;\n",
              "    }\n",
              "</style>\n",
              "<table border=\"1\" class=\"dataframe\">\n",
              "  <thead>\n",
              "    <tr style=\"text-align: right;\">\n",
              "      <th></th>\n",
              "      <th>similar</th>\n",
              "      <th>all</th>\n",
              "      <th>score</th>\n",
              "    </tr>\n",
              "    <tr>\n",
              "      <th>movieId</th>\n",
              "      <th></th>\n",
              "      <th></th>\n",
              "      <th></th>\n",
              "    </tr>\n",
              "  </thead>\n",
              "  <tbody>\n",
              "    <tr>\n",
              "      <th>115875</th>\n",
              "      <td>0.002656</td>\n",
              "      <td>0.000172</td>\n",
              "      <td>15.455353</td>\n",
              "    </tr>\n",
              "    <tr>\n",
              "      <th>115879</th>\n",
              "      <td>0.001557</td>\n",
              "      <td>0.000111</td>\n",
              "      <td>14.043053</td>\n",
              "    </tr>\n",
              "    <tr>\n",
              "      <th>114240</th>\n",
              "      <td>0.000275</td>\n",
              "      <td>0.000022</td>\n",
              "      <td>12.390929</td>\n",
              "    </tr>\n",
              "    <tr>\n",
              "      <th>67009</th>\n",
              "      <td>0.000305</td>\n",
              "      <td>0.000031</td>\n",
              "      <td>9.912743</td>\n",
              "    </tr>\n",
              "    <tr>\n",
              "      <th>7269</th>\n",
              "      <td>0.000305</td>\n",
              "      <td>0.000031</td>\n",
              "      <td>9.912743</td>\n",
              "    </tr>\n",
              "    <tr>\n",
              "      <th>...</th>\n",
              "      <td>...</td>\n",
              "      <td>...</td>\n",
              "      <td>...</td>\n",
              "    </tr>\n",
              "    <tr>\n",
              "      <th>853</th>\n",
              "      <td>0.000061</td>\n",
              "      <td>0.000271</td>\n",
              "      <td>0.225290</td>\n",
              "    </tr>\n",
              "    <tr>\n",
              "      <th>601</th>\n",
              "      <td>0.000061</td>\n",
              "      <td>0.000283</td>\n",
              "      <td>0.215494</td>\n",
              "    </tr>\n",
              "    <tr>\n",
              "      <th>797</th>\n",
              "      <td>0.000061</td>\n",
              "      <td>0.000296</td>\n",
              "      <td>0.206515</td>\n",
              "    </tr>\n",
              "    <tr>\n",
              "      <th>1075</th>\n",
              "      <td>0.000061</td>\n",
              "      <td>0.000339</td>\n",
              "      <td>0.180232</td>\n",
              "    </tr>\n",
              "    <tr>\n",
              "      <th>706</th>\n",
              "      <td>0.000061</td>\n",
              "      <td>0.000437</td>\n",
              "      <td>0.139616</td>\n",
              "    </tr>\n",
              "  </tbody>\n",
              "</table>\n",
              "<p>26405 rows × 3 columns</p>\n",
              "</div>\n",
              "    <div class=\"colab-df-buttons\">\n",
              "\n",
              "  <div class=\"colab-df-container\">\n",
              "    <button class=\"colab-df-convert\" onclick=\"convertToInteractive('df-4c3804ff-d8c0-42ee-86a3-de1302f553df')\"\n",
              "            title=\"Convert this dataframe to an interactive table.\"\n",
              "            style=\"display:none;\">\n",
              "\n",
              "  <svg xmlns=\"http://www.w3.org/2000/svg\" height=\"24px\" viewBox=\"0 -960 960 960\">\n",
              "    <path d=\"M120-120v-720h720v720H120Zm60-500h600v-160H180v160Zm220 220h160v-160H400v160Zm0 220h160v-160H400v160ZM180-400h160v-160H180v160Zm440 0h160v-160H620v160ZM180-180h160v-160H180v160Zm440 0h160v-160H620v160Z\"/>\n",
              "  </svg>\n",
              "    </button>\n",
              "\n",
              "  <style>\n",
              "    .colab-df-container {\n",
              "      display:flex;\n",
              "      gap: 12px;\n",
              "    }\n",
              "\n",
              "    .colab-df-convert {\n",
              "      background-color: #E8F0FE;\n",
              "      border: none;\n",
              "      border-radius: 50%;\n",
              "      cursor: pointer;\n",
              "      display: none;\n",
              "      fill: #1967D2;\n",
              "      height: 32px;\n",
              "      padding: 0 0 0 0;\n",
              "      width: 32px;\n",
              "    }\n",
              "\n",
              "    .colab-df-convert:hover {\n",
              "      background-color: #E2EBFA;\n",
              "      box-shadow: 0px 1px 2px rgba(60, 64, 67, 0.3), 0px 1px 3px 1px rgba(60, 64, 67, 0.15);\n",
              "      fill: #174EA6;\n",
              "    }\n",
              "\n",
              "    .colab-df-buttons div {\n",
              "      margin-bottom: 4px;\n",
              "    }\n",
              "\n",
              "    [theme=dark] .colab-df-convert {\n",
              "      background-color: #3B4455;\n",
              "      fill: #D2E3FC;\n",
              "    }\n",
              "\n",
              "    [theme=dark] .colab-df-convert:hover {\n",
              "      background-color: #434B5C;\n",
              "      box-shadow: 0px 1px 3px 1px rgba(0, 0, 0, 0.15);\n",
              "      filter: drop-shadow(0px 1px 2px rgba(0, 0, 0, 0.3));\n",
              "      fill: #FFFFFF;\n",
              "    }\n",
              "  </style>\n",
              "\n",
              "    <script>\n",
              "      const buttonEl =\n",
              "        document.querySelector('#df-4c3804ff-d8c0-42ee-86a3-de1302f553df button.colab-df-convert');\n",
              "      buttonEl.style.display =\n",
              "        google.colab.kernel.accessAllowed ? 'block' : 'none';\n",
              "\n",
              "      async function convertToInteractive(key) {\n",
              "        const element = document.querySelector('#df-4c3804ff-d8c0-42ee-86a3-de1302f553df');\n",
              "        const dataTable =\n",
              "          await google.colab.kernel.invokeFunction('convertToInteractive',\n",
              "                                                    [key], {});\n",
              "        if (!dataTable) return;\n",
              "\n",
              "        const docLinkHtml = 'Like what you see? Visit the ' +\n",
              "          '<a target=\"_blank\" href=https://colab.research.google.com/notebooks/data_table.ipynb>data table notebook</a>'\n",
              "          + ' to learn more about interactive tables.';\n",
              "        element.innerHTML = '';\n",
              "        dataTable['output_type'] = 'display_data';\n",
              "        await google.colab.output.renderOutput(dataTable, element);\n",
              "        const docLink = document.createElement('div');\n",
              "        docLink.innerHTML = docLinkHtml;\n",
              "        element.appendChild(docLink);\n",
              "      }\n",
              "    </script>\n",
              "  </div>\n",
              "\n",
              "\n",
              "<div id=\"df-76561af5-04a6-48ed-aa9b-dd8855aaf0fa\">\n",
              "  <button class=\"colab-df-quickchart\" onclick=\"quickchart('df-76561af5-04a6-48ed-aa9b-dd8855aaf0fa')\"\n",
              "            title=\"Suggest charts\"\n",
              "            style=\"display:none;\">\n",
              "\n",
              "<svg xmlns=\"http://www.w3.org/2000/svg\" height=\"24px\"viewBox=\"0 0 24 24\"\n",
              "     width=\"24px\">\n",
              "    <g>\n",
              "        <path d=\"M19 3H5c-1.1 0-2 .9-2 2v14c0 1.1.9 2 2 2h14c1.1 0 2-.9 2-2V5c0-1.1-.9-2-2-2zM9 17H7v-7h2v7zm4 0h-2V7h2v10zm4 0h-2v-4h2v4z\"/>\n",
              "    </g>\n",
              "</svg>\n",
              "  </button>\n",
              "\n",
              "<style>\n",
              "  .colab-df-quickchart {\n",
              "      --bg-color: #E8F0FE;\n",
              "      --fill-color: #1967D2;\n",
              "      --hover-bg-color: #E2EBFA;\n",
              "      --hover-fill-color: #174EA6;\n",
              "      --disabled-fill-color: #AAA;\n",
              "      --disabled-bg-color: #DDD;\n",
              "  }\n",
              "\n",
              "  [theme=dark] .colab-df-quickchart {\n",
              "      --bg-color: #3B4455;\n",
              "      --fill-color: #D2E3FC;\n",
              "      --hover-bg-color: #434B5C;\n",
              "      --hover-fill-color: #FFFFFF;\n",
              "      --disabled-bg-color: #3B4455;\n",
              "      --disabled-fill-color: #666;\n",
              "  }\n",
              "\n",
              "  .colab-df-quickchart {\n",
              "    background-color: var(--bg-color);\n",
              "    border: none;\n",
              "    border-radius: 50%;\n",
              "    cursor: pointer;\n",
              "    display: none;\n",
              "    fill: var(--fill-color);\n",
              "    height: 32px;\n",
              "    padding: 0;\n",
              "    width: 32px;\n",
              "  }\n",
              "\n",
              "  .colab-df-quickchart:hover {\n",
              "    background-color: var(--hover-bg-color);\n",
              "    box-shadow: 0 1px 2px rgba(60, 64, 67, 0.3), 0 1px 3px 1px rgba(60, 64, 67, 0.15);\n",
              "    fill: var(--button-hover-fill-color);\n",
              "  }\n",
              "\n",
              "  .colab-df-quickchart-complete:disabled,\n",
              "  .colab-df-quickchart-complete:disabled:hover {\n",
              "    background-color: var(--disabled-bg-color);\n",
              "    fill: var(--disabled-fill-color);\n",
              "    box-shadow: none;\n",
              "  }\n",
              "\n",
              "  .colab-df-spinner {\n",
              "    border: 2px solid var(--fill-color);\n",
              "    border-color: transparent;\n",
              "    border-bottom-color: var(--fill-color);\n",
              "    animation:\n",
              "      spin 1s steps(1) infinite;\n",
              "  }\n",
              "\n",
              "  @keyframes spin {\n",
              "    0% {\n",
              "      border-color: transparent;\n",
              "      border-bottom-color: var(--fill-color);\n",
              "      border-left-color: var(--fill-color);\n",
              "    }\n",
              "    20% {\n",
              "      border-color: transparent;\n",
              "      border-left-color: var(--fill-color);\n",
              "      border-top-color: var(--fill-color);\n",
              "    }\n",
              "    30% {\n",
              "      border-color: transparent;\n",
              "      border-left-color: var(--fill-color);\n",
              "      border-top-color: var(--fill-color);\n",
              "      border-right-color: var(--fill-color);\n",
              "    }\n",
              "    40% {\n",
              "      border-color: transparent;\n",
              "      border-right-color: var(--fill-color);\n",
              "      border-top-color: var(--fill-color);\n",
              "    }\n",
              "    60% {\n",
              "      border-color: transparent;\n",
              "      border-right-color: var(--fill-color);\n",
              "    }\n",
              "    80% {\n",
              "      border-color: transparent;\n",
              "      border-right-color: var(--fill-color);\n",
              "      border-bottom-color: var(--fill-color);\n",
              "    }\n",
              "    90% {\n",
              "      border-color: transparent;\n",
              "      border-bottom-color: var(--fill-color);\n",
              "    }\n",
              "  }\n",
              "</style>\n",
              "\n",
              "  <script>\n",
              "    async function quickchart(key) {\n",
              "      const quickchartButtonEl =\n",
              "        document.querySelector('#' + key + ' button');\n",
              "      quickchartButtonEl.disabled = true;  // To prevent multiple clicks.\n",
              "      quickchartButtonEl.classList.add('colab-df-spinner');\n",
              "      try {\n",
              "        const charts = await google.colab.kernel.invokeFunction(\n",
              "            'suggestCharts', [key], {});\n",
              "      } catch (error) {\n",
              "        console.error('Error during call to suggestCharts:', error);\n",
              "      }\n",
              "      quickchartButtonEl.classList.remove('colab-df-spinner');\n",
              "      quickchartButtonEl.classList.add('colab-df-quickchart-complete');\n",
              "    }\n",
              "    (() => {\n",
              "      let quickchartButtonEl =\n",
              "        document.querySelector('#df-76561af5-04a6-48ed-aa9b-dd8855aaf0fa button');\n",
              "      quickchartButtonEl.style.display =\n",
              "        google.colab.kernel.accessAllowed ? 'block' : 'none';\n",
              "    })();\n",
              "  </script>\n",
              "</div>\n",
              "\n",
              "    </div>\n",
              "  </div>\n"
            ],
            "application/vnd.google.colaboratory.intrinsic+json": {
              "type": "dataframe",
              "summary": "{\n  \"name\": \"scores_calculator(3114)\",\n  \"rows\": 26405,\n  \"fields\": [\n    {\n      \"column\": \"movieId\",\n      \"properties\": {\n        \"dtype\": \"number\",\n        \"std\": 67470,\n        \"min\": 1,\n        \"max\": 209121,\n        \"num_unique_values\": 26405,\n        \"samples\": [\n          68959,\n          167380,\n          63788\n        ],\n        \"semantic_type\": \"\",\n        \"description\": \"\"\n      }\n    },\n    {\n      \"column\": \"similar\",\n      \"properties\": {\n        \"dtype\": \"number\",\n        \"std\": 0.03071628207354158,\n        \"min\": 6.106124442816144e-05,\n        \"max\": 1.1360139219637295,\n        \"num_unique_values\": 1470,\n        \"samples\": [\n          0.0639921841607132,\n          0.08438663979971912,\n          0.05556573242962692\n        ],\n        \"semantic_type\": \"\",\n        \"description\": \"\"\n      }\n    },\n    {\n      \"column\": \"all\",\n      \"properties\": {\n        \"dtype\": \"number\",\n        \"std\": 0.014088559442011586,\n        \"min\": 6.159873353003862e-06,\n        \"max\": 0.4343573096137143,\n        \"num_unique_values\": 2713,\n        \"samples\": [\n          0.023241202160883573,\n          0.034156497742406415,\n          0.004262632360278673\n        ],\n        \"semantic_type\": \"\",\n        \"description\": \"\"\n      }\n    },\n    {\n      \"column\": \"score\",\n      \"properties\": {\n        \"dtype\": \"number\",\n        \"std\": 2.4307342256476407,\n        \"min\": 0.13961610537622757,\n        \"max\": 15.4553527403039,\n        \"num_unique_values\": 6616,\n        \"samples\": [\n          2.645442201680832,\n          1.3886793678344378,\n          1.4527296481819543\n        ],\n        \"semantic_type\": \"\",\n        \"description\": \"\"\n      }\n    }\n  ]\n}"
            }
          },
          "metadata": {},
          "execution_count": 26
        }
      ]
    },
    {
      "cell_type": "code",
      "source": [
        "def recommendation_results(user_input, title=0):\n",
        "    # user_input = clean_title(user_input)\n",
        "    title_candidates = search_by_title(user_input)\n",
        "    movie_id = title_candidates.iloc[title]['movieId']\n",
        "    scores = scores_calculator(movie_id)\n",
        "    results = scores.head(10).merge(movies_data, left_index=True, right_on='movieId')[['clean_title', 'score', 'genres_list']]\n",
        "    resutls = results.rename(columns={'clean_title': 'title', 'genres_list': 'genres'}, inplace=True)\n",
        "    return results\n",
        "\n",
        "user_input = \"Toy Story\"\n",
        "print(\"Are you looking for (please choose a number): \")\n",
        "for i in range(5):\n",
        "    print(i, \": \", search_by_title(user_input)['clean_title'].iloc[i])\n",
        "\n",
        "title = 0\n",
        "if int(title) in range(5):\n",
        "    print(\"We have following recommendations: \")\n",
        "    print(recommendation_results(user_input, int(title)))\n",
        "else:\n",
        "    print(\"Sorry! please try again!\")\n",
        "# print(\"================================================\")\n",
        "# print(\"Recommendation_results: \")\n",
        "# print(recommendation_results(user_input))"
      ],
      "metadata": {
        "colab": {
          "base_uri": "https://localhost:8080/"
        },
        "id": "_q9Q5EjzqBzm",
        "outputId": "7ac44add-569a-4d83-d5ad-71d58c1ec1ff"
      },
      "execution_count": 27,
      "outputs": [
        {
          "output_type": "stream",
          "name": "stdout",
          "text": [
            "Are you looking for (please choose a number): \n",
            "0 :  Toy Story 2 1999\n",
            "1 :  Toy Story 3 2010\n",
            "2 :  Toy Story 1995\n",
            "3 :  Toy Story 4 2019\n",
            "4 :  Toy Story of Terror 2013\n",
            "We have following recommendations: \n",
            "                                        title      score  \\\n",
            "22633  Toy Story Toons Hawaiian Vacation 2011  15.455353   \n",
            "22634          Toy Story Toons Small Fry 2011  14.043053   \n",
            "22286                            Aladdin 1992  12.390929   \n",
            "13140                       Frontrunners 2008   9.912743   \n",
            "7144            Hangin with the Homeboys 1991   9.912743   \n",
            "14093                   My Sister Eileen 1942   9.912743   \n",
            "51129                 One last afternoon 2016   9.912743   \n",
            "53372                     Happy Go Ducky 1958   9.912743   \n",
            "35967            Les Maitres Du Suspense 2014   9.912743   \n",
            "42585                           Desolate 2013   9.912743   \n",
            "\n",
            "                                            genres  \n",
            "22633  Adventure Animation Children Comedy Fantasy  \n",
            "22634  Adventure Animation Children Comedy Fantasy  \n",
            "22286  Adventure Animation Children Comedy Fantasy  \n",
            "13140                                  Documentary  \n",
            "7144                                  Comedy Drama  \n",
            "14093                                       Comedy  \n",
            "51129                                        Drama  \n",
            "53372                    Animation Children Comedy  \n",
            "35967                                       Comedy  \n",
            "42585                                 Drama Sci-Fi  \n"
          ]
        }
      ]
    },
    {
      "cell_type": "code",
      "source": [],
      "metadata": {
        "id": "mvDXZqnmqFXV"
      },
      "execution_count": null,
      "outputs": []
    }
  ]
}